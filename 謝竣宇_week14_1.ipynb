{
  "nbformat": 4,
  "nbformat_minor": 0,
  "metadata": {
    "colab": {
      "name": "謝竣宇-week14-1.ipynb",
      "provenance": [],
      "authorship_tag": "ABX9TyOavQv0VflOTqn89Xa/DDwr",
      "include_colab_link": true
    },
    "kernelspec": {
      "name": "python3",
      "display_name": "Python 3"
    }
  },
  "cells": [
    {
      "cell_type": "markdown",
      "metadata": {
        "id": "view-in-github",
        "colab_type": "text"
      },
      "source": [
        "<a href=\"https://colab.research.google.com/github/w23464/Computational-Thinking/blob/master/%E8%AC%9D%E7%AB%A3%E5%AE%87_week14_1.ipynb\" target=\"_parent\"><img src=\"https://colab.research.google.com/assets/colab-badge.svg\" alt=\"Open In Colab\"/></a>"
      ]
    },
    {
      "cell_type": "code",
      "metadata": {
        "colab": {
          "base_uri": "https://localhost:8080/"
        },
        "id": "CmbMJbCouwfV",
        "outputId": "f610bc17-e289-43a4-fc90-69735d56893c"
      },
      "source": [
        "start = int(input('請輸入加總開始值?'))\r\n",
        "end = int(input('請輸入加總終止值?'))\r\n",
        "step = int(input('請輸入遞增減值'))\r\n",
        "\r\n",
        "sum = 0\r\n",
        "for i in range(start, end, step):\r\n",
        "  sum = sum + i\r\n",
        "  print('i為', i, '時，累加結果為', sum)  "
      ],
      "execution_count": 14,
      "outputs": [
        {
          "output_type": "stream",
          "text": [
            "請輸入加總開始值?2\n",
            "請輸入加總終止值?10\n",
            "請輸入遞增減值2\n",
            "i為 2 時，累加結果為 2\n",
            "i為 4 時，累加結果為 6\n",
            "i為 6 時，累加結果為 12\n",
            "i為 8 時，累加結果為 20\n"
          ],
          "name": "stdout"
        }
      ]
    }
  ]
}
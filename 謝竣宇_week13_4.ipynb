{
  "nbformat": 4,
  "nbformat_minor": 0,
  "metadata": {
    "colab": {
      "name": "謝竣宇-week13-4.ipynb",
      "provenance": [],
      "authorship_tag": "ABX9TyOAxx6WqjFrTuodz0RtZdMQ",
      "include_colab_link": true
    },
    "kernelspec": {
      "name": "python3",
      "display_name": "Python 3"
    }
  },
  "cells": [
    {
      "cell_type": "markdown",
      "metadata": {
        "id": "view-in-github",
        "colab_type": "text"
      },
      "source": [
        "<a href=\"https://colab.research.google.com/github/w23464/Computational-Thinking/blob/master/%E8%AC%9D%E7%AB%A3%E5%AE%87_week13_4.ipynb\" target=\"_parent\"><img src=\"https://colab.research.google.com/assets/colab-badge.svg\" alt=\"Open In Colab\"/></a>"
      ]
    },
    {
      "cell_type": "code",
      "metadata": {
        "colab": {
          "base_uri": "https://localhost:8080/"
        },
        "id": "SvuBQbCb8-2T",
        "outputId": "e251b585-ecaf-42e7-a940-f5565363741d"
      },
      "source": [
        "sum = 0\n",
        "for i in range(3,13,3):\n",
        "    sum = sum + i\n",
        "print(\"Total is\",sum)"
      ],
      "execution_count": 1,
      "outputs": [
        {
          "output_type": "stream",
          "text": [
            "Total is 30\n"
          ],
          "name": "stdout"
        }
      ]
    }
  ]
}
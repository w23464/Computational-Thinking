{
  "nbformat": 4,
  "nbformat_minor": 0,
  "metadata": {
    "colab": {
      "name": "謝竣宇-week12.ipynb",
      "provenance": [],
      "authorship_tag": "ABX9TyPTjnAFAP/qHp4Di82wpKrY",
      "include_colab_link": true
    },
    "kernelspec": {
      "name": "python3",
      "display_name": "Python 3"
    }
  },
  "cells": [
    {
      "cell_type": "markdown",
      "metadata": {
        "id": "view-in-github",
        "colab_type": "text"
      },
      "source": [
        "<a href=\"https://colab.research.google.com/github/w23464/Computational-Thinking/blob/master/%E8%AC%9D%E7%AB%A3%E5%AE%87_week12.ipynb\" target=\"_parent\"><img src=\"https://colab.research.google.com/assets/colab-badge.svg\" alt=\"Open In Colab\"/></a>"
      ]
    },
    {
      "cell_type": "code",
      "metadata": {
        "colab": {
          "base_uri": "https://localhost:8080/"
        },
        "id": "FSHGWTX_fg10",
        "outputId": "b4584bb9-0e33-4b0a-b41d-73b1d662a83d"
      },
      "source": [
        "hello1 = \"Hello world!\"\r\n",
        "hello2 = \"Hello Python\"\r\n",
        "hello3 = \"Shaquile O'Neil\"\r\n",
        "\r\n",
        "s1 = \"123\"\r\n",
        "s2 = \"456\"\r\n",
        "s3 = s1+s2\r\n",
        "print(s3)\r\n",
        "s4 = s1*2\r\n",
        "print(s4)\r\n",
        "\r\n",
        "s1='An apple a day.'\r\n",
        "s1.capitalize()\r\n",
        "s1.title()\r\n",
        "s1.swapcase()\r\n",
        "s1.upper()\r\n",
        "s1.lower()\r\n",
        "\r\n",
        "numberlist = [1,2,3,4,5]\r\n",
        "print(numberlist)\r\n",
        "charlist = [\"1\",\"2\",\"3\",\"4\",\"5\"]\r\n",
        "print(charlist)\r\n",
        "mixlist = {1,\"2\",3,\"4\",5}\r\n",
        "print(mixlist)\r\n",
        "\r\n",
        "word = \"Python\"\r\n",
        "list1 = list(word)\r\n",
        "print(list)\r\n",
        "\r\n",
        "favorite_list = [6,\"milk\",\"Xuam\",\"appoinment\",\"green\"]\r\n",
        "print(favorite_list)\r\n",
        "\r\n",
        "numberlist = [\"1\",\"2\",\"3\",\"4\",\"5\"]\r\n",
        "numberlist[1]\r\n",
        "print(numberlist[1:4])"
      ],
      "execution_count": 16,
      "outputs": [
        {
          "output_type": "stream",
          "text": [
            "123456\n",
            "123123\n",
            "[1, 2, 3, 4, 5]\n",
            "['1', '2', '3', '4', '5']\n",
            "{1, 3, '2', 5, '4'}\n",
            "<class 'list'>\n",
            "[6, 'milk', 'Xuam', 'appoinment', 'green']\n",
            "['2', '3', '4']\n"
          ],
          "name": "stdout"
        }
      ]
    },
    {
      "cell_type": "code",
      "metadata": {
        "id": "7SF3Tk43jyjT"
      },
      "source": [
        ""
      ],
      "execution_count": null,
      "outputs": []
    }
  ]
}
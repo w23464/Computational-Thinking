{
  "nbformat": 4,
  "nbformat_minor": 0,
  "metadata": {
    "colab": {
      "name": "謝竣宇-week14-2.ipynb",
      "provenance": [],
      "authorship_tag": "ABX9TyNPZjWRepb9hp/v7jc6OskO",
      "include_colab_link": true
    },
    "kernelspec": {
      "name": "python3",
      "display_name": "Python 3"
    }
  },
  "cells": [
    {
      "cell_type": "markdown",
      "metadata": {
        "id": "view-in-github",
        "colab_type": "text"
      },
      "source": [
        "<a href=\"https://colab.research.google.com/github/w23464/Computational-Thinking/blob/master/%E8%AC%9D%E7%AB%A3%E5%AE%87_week14_2.ipynb\" target=\"_parent\"><img src=\"https://colab.research.google.com/assets/colab-badge.svg\" alt=\"Open In Colab\"/></a>"
      ]
    },
    {
      "cell_type": "code",
      "metadata": {
        "colab": {
          "base_uri": "https://localhost:8080/"
        },
        "id": "T_Z3eTNpzuQ9",
        "outputId": "69bd386c-90c9-43c8-d997-019a56001bb7"
      },
      "source": [
        "sheet = ['牛奶', '蛋', '咖啡豆']\r\n",
        "for index in [0,1,2]:\r\n",
        "  print (index)\r\n",
        "\r\n",
        "sheet = ['牛奶', '蛋', '咖啡豆']\r\n",
        "for index in [0,1,2]:\r\n",
        "  print (index, sheet[index])"
      ],
      "execution_count": 10,
      "outputs": [
        {
          "output_type": "stream",
          "text": [
            "0\n",
            "1\n",
            "2\n",
            "0 牛奶\n",
            "1 蛋\n",
            "2 咖啡豆\n"
          ],
          "name": "stdout"
        }
      ]
    }
  ]
}
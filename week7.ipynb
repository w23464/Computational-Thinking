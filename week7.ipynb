{
  "nbformat": 4,
  "nbformat_minor": 0,
  "metadata": {
    "colab": {
      "name": "Untitled0.ipynb",
      "provenance": [],
      "authorship_tag": "ABX9TyOW8zKhLb2OZORNCzBVde4y",
      "include_colab_link": true
    },
    "kernelspec": {
      "name": "python3",
      "display_name": "Python 3"
    }
  },
  "cells": [
    {
      "cell_type": "markdown",
      "metadata": {
        "id": "view-in-github",
        "colab_type": "text"
      },
      "source": [
        "<a href=\"https://colab.research.google.com/github/w23464/Computational-Thinking/blob/master/week7.ipynb\" target=\"_parent\"><img src=\"https://colab.research.google.com/assets/colab-badge.svg\" alt=\"Open In Colab\"/></a>"
      ]
    },
    {
      "cell_type": "code",
      "metadata": {
        "id": "VxSGl54Hbd3-",
        "outputId": "f103344f-d3fb-4f16-e7f3-4b2c862d7df9",
        "colab": {
          "base_uri": "https://localhost:8080/"
        }
      },
      "source": [
        "magic_number = (2**5 +271) + (8%5)*10\n",
        "print(magic_number)"
      ],
      "execution_count": 5,
      "outputs": [
        {
          "output_type": "stream",
          "text": [
            "333\n"
          ],
          "name": "stdout"
        }
      ]
    }
  ]
}